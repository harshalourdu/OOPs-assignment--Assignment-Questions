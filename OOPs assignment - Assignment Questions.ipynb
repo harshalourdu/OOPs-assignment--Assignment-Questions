{
 "cells": [
  {
   "cell_type": "markdown",
   "metadata": {},
   "source": [
    "Q1. Which function is used to open a file? What are the different modes of opening a file? Explain each mode\n",
    "of file opening.\n",
    "\n",
    "Q2. Why close() function is used? Why is it important to close a file?\n",
    "\n",
    "Q3. Write a python program to create a text file. Write ‘I want to become a Data Scientist’ in that file. Then\n",
    "close the file. Open this file and read the content of the file.\n",
    "\n",
    "Q4. Explain the following with python code: read(), readline() and readlines().\n",
    "\n",
    "Q5. Explain why with statement is used with open(). What is the advantage of using with statement and\n",
    "open() together?\n",
    "\n",
    "Q6. Explain the write() and writelines() functions. Give a suitable example."
   ]
  },
  {
   "cell_type": "markdown",
   "metadata": {},
   "source": [
    "# 1.\n",
    "\n",
    "The different modes of opening a file are:\n",
    "\n",
    "1. 'r' (Read): Opens the file for reading. The file must exist. If the file does not exist, it raises a FileNotFoundError.\n",
    "\n",
    "2. 'w' (Write): Opens the file for writing. If the file already exists, it truncates the file (empties the content). If the file does not exist, it creates a new empty file.\n",
    "\n",
    "3. 'a' (Append): Opens the file for appending. If the file does not exist, it creates a new file. It allows writing data at the end of the file, without truncating it.\n",
    "\n",
    "4. 'x' (Exclusive creation): Creates a new file. If the file already exists, the operation fails with a FileExistsError.\n",
    "\n",
    "5. 'b' (Binary mode): This is used to open a file in binary mode. You can append this to other modes (e.g., 'rb' or 'wb') to work with binary files (like images or videos).\n",
    "\n",
    "6. 't' (Text mode): This is the default mode, used for text files. You can specify it explicitly (e.g., 'rt', 'wt') or leave it out.\n",
    "\n",
    "7. 'r+' (Read and write): Opens the file for both reading and writing. The file must exist.\n",
    "\n",
    "8. 'w+' (Write and read): Opens the file for both reading and writing. If the file exists, it truncates it. If the file does not exist, it creates a new file.\n",
    "\n",
    "9. 'a+' (Append and read): Opens the file for both appending and reading. If the file does not exist, it creates a new file."
   ]
  },
  {
   "cell_type": "markdown",
   "metadata": {},
   "source": [
    "# 2.\n",
    "\n",
    "The close() function is used to close an open file. This function is important for the following reasons:\n",
    "\n",
    "Releasing Resources: Closing a file frees up system resources associated with the file. Not closing a file could lead to memory leaks or depletion of file handles.\n",
    "\n",
    "Saving Changes: For files opened in write or append mode, calling close() ensures that any changes or data written to the file are saved properly.\n",
    "\n",
    "Preventing Data Corruption: When a file is closed, any buffered data is written to disk. If you do not close the file, some data might remain in memory and not be written to the file, potentially leading to data loss or corruption."
   ]
  },
  {
   "cell_type": "code",
   "execution_count": 1,
   "metadata": {},
   "outputs": [
    {
     "name": "stdout",
     "output_type": "stream",
     "text": [
      "I want to become a Data Scientist\n"
     ]
    }
   ],
   "source": [
    "# 3.\n",
    "\n",
    "# Create and write to the file\n",
    "file = open('data_scientist.txt', 'w')\n",
    "file.write('I want to become a Data Scientist')\n",
    "file.close()\n",
    "\n",
    "# Open and read the content of the file\n",
    "file = open('data_scientist.txt', 'r')\n",
    "content = file.read()\n",
    "print(content)\n",
    "file.close()\n"
   ]
  },
  {
   "cell_type": "code",
   "execution_count": 2,
   "metadata": {},
   "outputs": [
    {
     "name": "stdout",
     "output_type": "stream",
     "text": [
      "I want to become a Data Scientist\n"
     ]
    }
   ],
   "source": [
    "# 4.\n",
    "\n",
    "file = open('data_scientist.txt', 'r')\n",
    "content = file.read()\n",
    "print(content)  # Outputs the entire file content\n",
    "file.close()\n"
   ]
  },
  {
   "cell_type": "markdown",
   "metadata": {},
   "source": [
    "# 5. \n",
    "\n",
    "The with statement is used to wrap the code that works with resources like files, ensuring that the resource is properly cleaned up (closed) after use, even if an error occurs. This is known as a context manager.\n",
    "\n",
    "Advantages:\n",
    "\n",
    "Automatic File Closing: Using with automatically closes the file when the block is exited, even if an exception occurs, thus avoiding the need to explicitly call close().\n",
    "\n",
    "Cleaner Code: The code is more concise and readable, as the file is automatically closed when the block of code is done executing."
   ]
  },
  {
   "cell_type": "code",
   "execution_count": 3,
   "metadata": {},
   "outputs": [],
   "source": [
    "# 6. \n",
    "\n",
    "file = open('data_scientist.txt', 'w')\n",
    "file.write('I want to become a Data Scientist.\\n')\n",
    "file.write('It requires knowledge in data analysis and machine learning.\\n')\n",
    "file.close()\n"
   ]
  },
  {
   "cell_type": "code",
   "execution_count": 4,
   "metadata": {},
   "outputs": [],
   "source": [
    "lines = ['I want to become a Data Scientist.\\n', 'It requires knowledge in data analysis and machine learning.\\n']\n",
    "file = open('data_scientist.txt', 'w')\n",
    "file.writelines(lines)\n",
    "file.close()\n"
   ]
  },
  {
   "cell_type": "code",
   "execution_count": null,
   "metadata": {},
   "outputs": [],
   "source": []
  }
 ],
 "metadata": {
  "kernelspec": {
   "display_name": "Python 3",
   "language": "python",
   "name": "python3"
  },
  "language_info": {
   "codemirror_mode": {
    "name": "ipython",
    "version": 3
   },
   "file_extension": ".py",
   "mimetype": "text/x-python",
   "name": "python",
   "nbconvert_exporter": "python",
   "pygments_lexer": "ipython3",
   "version": "3.11.9"
  }
 },
 "nbformat": 4,
 "nbformat_minor": 2
}
